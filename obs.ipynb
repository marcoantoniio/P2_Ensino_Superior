{
 "cells": [
  {
   "cell_type": "code",
   "execution_count": 3,
   "id": "2d9f7be9",
   "metadata": {},
   "outputs": [],
   "source": [
    "import pandas as pd"
   ]
  },
  {
   "cell_type": "code",
   "execution_count": 4,
   "id": "cc1fd815",
   "metadata": {},
   "outputs": [],
   "source": [
    "df = pd.read_csv('data/tabela_doc_faixa_etaria.csv')"
   ]
  },
  {
   "cell_type": "code",
   "execution_count": 9,
   "id": "9fb54678",
   "metadata": {},
   "outputs": [
    {
     "data": {
      "text/html": [
       "<div>\n",
       "<style scoped>\n",
       "    .dataframe tbody tr th:only-of-type {\n",
       "        vertical-align: middle;\n",
       "    }\n",
       "\n",
       "    .dataframe tbody tr th {\n",
       "        vertical-align: top;\n",
       "    }\n",
       "\n",
       "    .dataframe thead th {\n",
       "        text-align: right;\n",
       "    }\n",
       "</style>\n",
       "<table border=\"1\" class=\"dataframe\">\n",
       "  <thead>\n",
       "    <tr style=\"text-align: right;\">\n",
       "      <th></th>\n",
       "      <th>NO_IES</th>\n",
       "      <th>FAIXA_ETARIA</th>\n",
       "      <th>UF</th>\n",
       "    </tr>\n",
       "  </thead>\n",
       "  <tbody>\n",
       "    <tr>\n",
       "      <th>0</th>\n",
       "      <td>UNIVERSIDADE DE BRASÍLIA</td>\n",
       "      <td>ATÉ 29</td>\n",
       "      <td>DF</td>\n",
       "    </tr>\n",
       "    <tr>\n",
       "      <th>1</th>\n",
       "      <td>UNIVERSIDADE DE BRASÍLIA</td>\n",
       "      <td>ATÉ 29</td>\n",
       "      <td>DF</td>\n",
       "    </tr>\n",
       "    <tr>\n",
       "      <th>2</th>\n",
       "      <td>UNIVERSIDADE DE BRASÍLIA</td>\n",
       "      <td>ATÉ 29</td>\n",
       "      <td>DF</td>\n",
       "    </tr>\n",
       "    <tr>\n",
       "      <th>3</th>\n",
       "      <td>UNIVERSIDADE DE BRASÍLIA</td>\n",
       "      <td>ATÉ 29</td>\n",
       "      <td>DF</td>\n",
       "    </tr>\n",
       "    <tr>\n",
       "      <th>4</th>\n",
       "      <td>UNIVERSIDADE DE BRASÍLIA</td>\n",
       "      <td>ATÉ 29</td>\n",
       "      <td>DF</td>\n",
       "    </tr>\n",
       "    <tr>\n",
       "      <th>...</th>\n",
       "      <td>...</td>\n",
       "      <td>...</td>\n",
       "      <td>...</td>\n",
       "    </tr>\n",
       "    <tr>\n",
       "      <th>7698</th>\n",
       "      <td>UNIVERSIDADE DO DISTRITO FEDERAL</td>\n",
       "      <td>60 +</td>\n",
       "      <td>DF</td>\n",
       "    </tr>\n",
       "    <tr>\n",
       "      <th>7699</th>\n",
       "      <td>UNIVERSIDADE DO DISTRITO FEDERAL</td>\n",
       "      <td>60 +</td>\n",
       "      <td>DF</td>\n",
       "    </tr>\n",
       "    <tr>\n",
       "      <th>7700</th>\n",
       "      <td>UNIVERSIDADE DO DISTRITO FEDERAL</td>\n",
       "      <td>60 +</td>\n",
       "      <td>DF</td>\n",
       "    </tr>\n",
       "    <tr>\n",
       "      <th>7701</th>\n",
       "      <td>COLÉGIO TECNOLÓGICO DO ESTADO DE GOIÁS GOVERNA...</td>\n",
       "      <td>ATÉ 29</td>\n",
       "      <td>GO</td>\n",
       "    </tr>\n",
       "    <tr>\n",
       "      <th>7702</th>\n",
       "      <td>COLÉGIO TECNOLÓGICO DO ESTADO DE GOIÁS GOVERNA...</td>\n",
       "      <td>ATÉ 29</td>\n",
       "      <td>GO</td>\n",
       "    </tr>\n",
       "  </tbody>\n",
       "</table>\n",
       "<p>7703 rows × 3 columns</p>\n",
       "</div>"
      ],
      "text/plain": [
       "                                                 NO_IES FAIXA_ETARIA  UF\n",
       "0                              UNIVERSIDADE DE BRASÍLIA       ATÉ 29  DF\n",
       "1                              UNIVERSIDADE DE BRASÍLIA       ATÉ 29  DF\n",
       "2                              UNIVERSIDADE DE BRASÍLIA       ATÉ 29  DF\n",
       "3                              UNIVERSIDADE DE BRASÍLIA       ATÉ 29  DF\n",
       "4                              UNIVERSIDADE DE BRASÍLIA       ATÉ 29  DF\n",
       "...                                                 ...          ...  ..\n",
       "7698                   UNIVERSIDADE DO DISTRITO FEDERAL         60 +  DF\n",
       "7699                   UNIVERSIDADE DO DISTRITO FEDERAL         60 +  DF\n",
       "7700                   UNIVERSIDADE DO DISTRITO FEDERAL         60 +  DF\n",
       "7701  COLÉGIO TECNOLÓGICO DO ESTADO DE GOIÁS GOVERNA...       ATÉ 29  GO\n",
       "7702  COLÉGIO TECNOLÓGICO DO ESTADO DE GOIÁS GOVERNA...       ATÉ 29  GO\n",
       "\n",
       "[7703 rows x 3 columns]"
      ]
     },
     "execution_count": 9,
     "metadata": {},
     "output_type": "execute_result"
    }
   ],
   "source": [
    "df"
   ]
  },
  {
   "cell_type": "code",
   "execution_count": 10,
   "id": "49080357",
   "metadata": {},
   "outputs": [
    {
     "data": {
      "text/plain": [
       "FAIXA_ETARIA\n",
       "ENTRE 40 E 44    1732\n",
       "ENTRE 45 E 49    1505\n",
       "ENTRE 50 E 54    1149\n",
       "60 +             1064\n",
       "ENTRE 30 E 34     976\n",
       "ENTRE 55 E 59     848\n",
       "ATÉ 29            429\n",
       "Name: count, dtype: int64"
      ]
     },
     "execution_count": 10,
     "metadata": {},
     "output_type": "execute_result"
    }
   ],
   "source": [
    "df['FAIXA_ETARIA'].value_counts()"
   ]
  },
  {
   "cell_type": "code",
   "execution_count": 13,
   "id": "3ef24139",
   "metadata": {},
   "outputs": [
    {
     "data": {
      "text/plain": [
       "array(['UNIVERSIDADE DE BRASÍLIA', 'CENTRO UNIVERSITÁRIO DE BRASÍLIA',\n",
       "       'UNIVERSIDADE CATÓLICA DE BRASÍLIA',\n",
       "       'FACULDADES INTEGRADAS DA UPIS',\n",
       "       'CENTRO UNIVERSITÁRIO DO DISTRITO FEDERAL',\n",
       "       'FACULDADE DE ARTES DULCINA DE MORAES',\n",
       "       'CENTRO UNIVERSITÁRIO DE DESENVOLVIMENTO DO CENTRO OESTE',\n",
       "       'FACULDADE DE CIÊNCIAS E TECNOLOGIA DE UNAÍ - FACTU',\n",
       "       'CENTRO UNIVERSITÁRIO DO INSTITUTO DE EDUCAÇÃO SUPERIOR DE BRASÍLIA - IESB',\n",
       "       'FACULDADE CNEC UNAÍ', 'CENTRO UNIVERSITÁRIO EURO-AMERICANO',\n",
       "       'FACULDADE ANHANGUERA DE BRASÍLIA',\n",
       "       'INSTITUTO DE CIÊNCIAS SOCIAIS E HUMANAS',\n",
       "       'CENTRO UNIVERSITÁRIO PLANALTO DO DISTRITO FEDERAL - UNIPLAN',\n",
       "       'FACULDADE ERICH FROMM', 'CENTRO UNIVERSITARIO PROJEÇÃO',\n",
       "       'FACULDADE DE CIÊNCIAS E EDUCAÇÃO SENA AIRES',\n",
       "       'CENTRO UNIVERSITÁRIO ESTÁCIO DE BRASÍLIA - ESTÁCIO BRASÍLIA',\n",
       "       'Faculdade Projeção de Sobradinho',\n",
       "       'FACULDADE SOBRESP DE CRISTALINA', 'Faculdade Unibras Gama',\n",
       "       'FACULDADE AIEC', 'FACULDADE ALBERT EINSTEIN',\n",
       "       'FACULDADE UNIÃO DE GOYAZES FORMOSA',\n",
       "       'Centro Universitário Processus',\n",
       "       'FACULDADE ANHANGUERA DE VALPARAÍSO', 'REAL FACULDADE DE BRASÍLIA',\n",
       "       'FACULDADE PROJEÇÃO DO GUARÁ',\n",
       "       'INSTITUTO SUPERIOR DE EDUCAÇÃO ALBERT EINSTEIN',\n",
       "       'Centro Universitário LS',\n",
       "       'FACULDADE TEOLÓGICA BATISTA DE BRASÍLIA',\n",
       "       'Centro Universitário ICESP', 'FACULDADES INTEGRADAS IESGO',\n",
       "       'FACULDADE EVANGÉLICA DE GOIANÉSIA', 'FACULDADE IBRA DE BRASÍLIA',\n",
       "       'CENTRO UNIVERSITÁRIO MAUÁ DE BRASÍLIA', 'FACULDADE MAUÁ DE GOIÁS',\n",
       "       'FACULDADE CCI', 'FACULDADE ICESP', 'FACULDADE APOGEU',\n",
       "       'Faculdade de Tecnologia e Inovação Senac DF',\n",
       "       'FACULDADE DE CIÊNCIAS DA SAÚDE DE UNAÍ',\n",
       "       'CENTRO UNIVERSITÁRIO DO PLANALTO CENTRAL APPARECIDO DOS SANTOS',\n",
       "       'Faculdade Unibras Brasília',\n",
       "       'Instituto Brasileiro de Ensino, Desenvolvimento e Pesquisa de Brasília',\n",
       "       'FACULDADE DE TEOLOGIA DA ARQUIDIOCESE DE BRASÍLIA',\n",
       "       'INSTITUTO FEDERAL DE EDUCAÇÃO, CIENCIA E TECNOLOGIA DE BRASILIA',\n",
       "       'FACULDADE HORIZONTE', 'Instituto Superior de Ciencias Policiais',\n",
       "       'Faculdade ANASPS', 'Faculdade de Tecnologia CNA',\n",
       "       'FACULDADE LOGOS', 'FACULDADE LIFE',\n",
       "       'ENSINO SUPERIOR ALBERT SABIN', 'Faculdade FILOS',\n",
       "       'FACULDADE FASIPE DF',\n",
       "       'FACULDADE PRESBITERIANA MACKENZIE BRASILIA', 'FACULDADE ATAME',\n",
       "       'Escola de Políticas Públicas e Governo da Fundação Getulio Vargas',\n",
       "       'Faculdade Uninassau Brasília', 'Faculdade de Tecnologia Ícone',\n",
       "       'Faculdade Republicana', 'FACULDADE CATEDRAL',\n",
       "       'Faculdades Planalto Central',\n",
       "       'FTRB - Faculdade Teológica Reformada de Brasília',\n",
       "       'Instituto Superior da Convenção Nac. das Assembleias de Deus',\n",
       "       'Faculdade Cerrado', 'Faculdade Nossa Senhora Aparecida',\n",
       "       'Faculdade de Ciências Jurídicas de Luziânia',\n",
       "       'Faculdade Brasília', 'Faculdade UNIABA',\n",
       "       'Faculdade Ibmec de Brasília',\n",
       "       'FACULDADE DE TECNOLOGIA E EDUCAÇÃO SUPERIOR E PROFISSIONALIZ',\n",
       "       'INSIDE - Instituto Superior para Integração, Desenvolvimento e Educação',\n",
       "       'Faculdade de Minas EAD',\n",
       "       'Faculdade Fraga de Integração da Cultura Educação e Pesquisa',\n",
       "       'Faculdade Guerra', 'FACULDADE ANCLIVEPA BRASÍLIA',\n",
       "       'Instituto Aria', 'Faculdade Comunidade das Nações',\n",
       "       'UNIVERSIDADE DO DISTRITO FEDERAL',\n",
       "       'COLÉGIO TECNOLÓGICO DO ESTADO DE GOIÁS GOVERNADOR OTÁVIO LAG'],\n",
       "      dtype=object)"
      ]
     },
     "execution_count": 13,
     "metadata": {},
     "output_type": "execute_result"
    }
   ],
   "source": [
    "df['NO_IES'].unique()"
   ]
  },
  {
   "cell_type": "code",
   "execution_count": null,
   "id": "5df659f8",
   "metadata": {},
   "outputs": [],
   "source": []
  }
 ],
 "metadata": {
  "kernelspec": {
   "display_name": ".venv",
   "language": "python",
   "name": "python3"
  },
  "language_info": {
   "codemirror_mode": {
    "name": "ipython",
    "version": 3
   },
   "file_extension": ".py",
   "mimetype": "text/x-python",
   "name": "python",
   "nbconvert_exporter": "python",
   "pygments_lexer": "ipython3",
   "version": "3.13.3"
  }
 },
 "nbformat": 4,
 "nbformat_minor": 5
}
